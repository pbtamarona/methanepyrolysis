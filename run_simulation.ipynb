{
 "cells": [
  {
   "cell_type": "code",
   "execution_count": null,
   "id": "initial_id",
   "metadata": {
    "ExecuteTime": {
     "end_time": "2025-04-24T17:57:11.316877Z",
     "start_time": "2025-04-24T17:57:10.830146Z"
    },
    "collapsed": true
   },
   "outputs": [],
   "source": [
    "from simulation import *\n",
    "from process_plant import * "
   ]
  },
  {
   "cell_type": "code",
   "execution_count": null,
   "id": "7fb2d9f0a4813dde",
   "metadata": {
    "ExecuteTime": {
     "end_time": "2025-04-24T17:58:13.242841Z",
     "start_time": "2025-04-24T17:57:11.317952Z"
    }
   },
   "outputs": [],
   "source": [
    "# Configuration dictionary\n",
    "sim_config = {\n",
    "    'open_aspen': False,\n",
    "    'tolerance': 0.0001,\n",
    "    'plant_capacity': 100,  # tpd\n",
    "    'reactor': {\n",
    "        'type': 'PFR',\n",
    "        'temperature': 650,  # C\n",
    "        'pressure': 1.12,  # bar\n",
    "        'heating': 'ch4'\n",
    "    },\n",
    "    'catalyst': {\n",
    "        'weight': 500,  # kg\n",
    "        'density': 850  # kg/m^3\n",
    "    },\n",
    "    'solid_c_density': 250,  # kg/m^3\n",
    "    'comp1_pressure': 1.4,  # bar\n",
    "    'comp2_pressure': 15,  # bar\n",
    "    'comp4_pressure': 74,  # bar\n",
    "    'mode': {\n",
    "        'type': 'constant_da',\n",
    "        'value': 0.85,\n",
    "        'step_size': 2\n",
    "    },\n",
    "    'initial_guess': 0.024,\n",
    "    'reaction_constants': {\n",
    "        'k': np.array([0.00977054 * 1000, 88]),  # [A (mol/(Pa·kgcat·s)), E (kJ/mol)]\n",
    "        'K_p': np.array([5.08803487500e10, 91.2]),  # [Ap (Pa), Ep (kJ/mol)]\n",
    "        'K_ch4': np.array([6.887737e-10, -56]),  # [A_ch4 (Pa^-1), E_ch4 (kJ/mol)]\n",
    "        'K_h2': np.array([5.8009466e-16, -144])  # [A_h2 (Pa^-1.5), E_h2 (kJ/mol)]\n",
    "    },\n",
    "    'deactivation_constants': {\n",
    "        'kd': np.array([18.39, 147]),  # [Ad (1/s), Ed (kJ/mol)]\n",
    "        'kd_c': np.array([309.87, -26]),  # [Ad_c, Ed_c (kJ/mol)]\n",
    "        'kd_ch4': np.array([-0.004431483, -5.376]),  # [Ad_ch4 (Pa^-1), Ed_ch4 (kJ/mol)]\n",
    "        'kd_h2': np.array([-2.44388E-05, -80.19])  # [Ad_h2 (Pa^-0.83), Ed_h2 (kJ/mol)]\n",
    "    },\n",
    "    'multiplier': 1\n",
    "}\n",
    "\n",
    "run_scenario(sim_config)"
   ]
  },
  {
   "cell_type": "code",
   "execution_count": null,
   "id": "b1f973c6",
   "metadata": {},
   "outputs": [],
   "source": [
    "config = {\n",
    "    'plant_specs':{\n",
    "        'plant_capacity': 100,\n",
    "        'reactor':{\n",
    "            'type': 'PFR',\n",
    "            'temperature': 650,\n",
    "            'pressure': 1.12,\n",
    "            'catwt': 500,\n",
    "            'deactivation': 0.85,\n",
    "            'heating': 'ch4',\n",
    "        },\n",
    "        'psa_press': 15, \n",
    "        'utilization_rate': 0.95, \n",
    "        'process_type': 'Mixed',\n",
    "        'country': 'Netherlands', \n",
    "        'region': None,\n",
    "        'co2_ccs': False,\n",
    "        'co2_intensity_electricity': 0.286,  # kgCO2/kWh\n",
    "    },\n",
    "    'economic_specs':{\n",
    "        'interest_rate': 0.09,\n",
    "        'tax_rate': 0.25,\n",
    "        'project_lifetime': 20, \n",
    "        'ch4_price': 0.5, \n",
    "        'co2_tax_rate': 71.51 / 1000,  # US$/kgCO2\n",
    "        'lcca': 85 / 1000,  # US$/kgCO2\n",
    "        'co2_specific_storage': 30 / 1000,  # US$/kgCO2\n",
    "        'cat_price': 20, \n",
    "        'electricity_price': 0.1, \n",
    "        'operators_hourly_rate': 38.11, \n",
    "        'solid_c_yearly_sales': 0.5, \n",
    "        'solid_c_price': 1, \n",
    "        'solid_c_disposal_fee': 0.5,\n",
    "        'h2_price': 5,\n",
    "        'fc_optimism': 1,\n",
    "        'fp_optimism': 1\n",
    "    }\n",
    "}"
   ]
  },
  {
   "cell_type": "code",
   "execution_count": null,
   "id": "b44cf9be",
   "metadata": {},
   "outputs": [],
   "source": [
    "pfr = ProcessPlant(config)\n",
    "pfr.lcoh"
   ]
  },
  {
   "cell_type": "code",
   "execution_count": null,
   "id": "66dbb847",
   "metadata": {},
   "outputs": [],
   "source": [
    "sim_config['reactor']['type'] = 'CSTR'\n",
    "run_scenario(sim_config)\n",
    "config['plant_specs']['reactor']['type'] = 'CSTR'\n",
    "cstr = ProcessPlant(config)\n",
    "cstr.lcoh"
   ]
  },
  {
   "cell_type": "code",
   "execution_count": null,
   "id": "ed34b8f8",
   "metadata": {},
   "outputs": [],
   "source": []
  }
 ],
 "metadata": {
  "kernelspec": {
   "display_name": "Python 3",
   "language": "python",
   "name": "python3"
  },
  "language_info": {
   "codemirror_mode": {
    "name": "ipython",
    "version": 3
   },
   "file_extension": ".py",
   "mimetype": "text/x-python",
   "name": "python",
   "nbconvert_exporter": "python",
   "pygments_lexer": "ipython3",
   "version": "3.13.3"
  }
 },
 "nbformat": 4,
 "nbformat_minor": 5
}
